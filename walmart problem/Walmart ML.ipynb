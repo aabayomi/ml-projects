{
 "cells": [
  {
   "cell_type": "markdown",
   "metadata": {},
   "source": [
    "WorkFlow ====>\n",
    "        Spliting Datasets(Training Set / Testing Set)\n",
    "            ||\n",
    "        Data Exploration and Visualisation\n",
    "            ||\n",
    "        Feature Extraction and Feature Engineering\n",
    "            ||\n",
    "        Data Modelling and Machine Learning"
   ]
  },
  {
   "cell_type": "markdown",
   "metadata": {},
   "source": [
    "# Spliting Datasets(Training Set / Testing Set)"
   ]
  },
  {
   "cell_type": "markdown",
   "metadata": {},
   "source": [
    "The cell block below  randomly splits the datasets into training(85%) and testing (15%) sets locally "
   ]
  },
  {
   "cell_type": "code",
   "execution_count": 31,
   "metadata": {},
   "outputs": [],
   "source": [
    "import random                    # Splitted dataset into two 85 / 15\n",
    "\n",
    "with open('/Users/abayomi/Desktop/walmart/census-income.data') as data:\n",
    "    with open('/Users/abayomi/Desktop/walmart/train.data', 'w') as test:\n",
    "        with open('/Users/abayomi/Desktop/walmart/test.data', 'w') as train:\n",
    "            header = next(data)\n",
    "            test.write(header)\n",
    "            train.write(header)\n",
    "            for line in data:\n",
    "                if random.random() > 0.85:\n",
    "                    train.write(line)\n",
    "                else:\n",
    "                    test.write(line)"
   ]
  },
  {
   "cell_type": "markdown",
   "metadata": {},
   "source": [
    "# Data Exploration and Visualisation"
   ]
  },
  {
   "cell_type": "code",
   "execution_count": 20,
   "metadata": {},
   "outputs": [
    {
     "data": {
      "text/html": [
       "<div>\n",
       "<style>\n",
       "    .dataframe thead tr:only-child th {\n",
       "        text-align: right;\n",
       "    }\n",
       "\n",
       "    .dataframe thead th {\n",
       "        text-align: left;\n",
       "    }\n",
       "\n",
       "    .dataframe tbody tr th {\n",
       "        vertical-align: top;\n",
       "    }\n",
       "</style>\n",
       "<table border=\"1\" class=\"dataframe\">\n",
       "  <thead>\n",
       "    <tr style=\"text-align: right;\">\n",
       "      <th></th>\n",
       "      <th>age</th>\n",
       "      <th>ACLSWKR</th>\n",
       "      <th>ADTIND</th>\n",
       "      <th>ADTOCC</th>\n",
       "      <th>AHGA</th>\n",
       "      <th>AHRSPAY</th>\n",
       "      <th>AHSCOL</th>\n",
       "      <th>AMARITL</th>\n",
       "      <th>AMJIND</th>\n",
       "      <th>AMJOCC</th>\n",
       "      <th>...</th>\n",
       "      <th>PEMNTVTY</th>\n",
       "      <th>PENATVTY</th>\n",
       "      <th>PRCITSHP</th>\n",
       "      <th>SEOTR</th>\n",
       "      <th>TAXINC</th>\n",
       "      <th>VETQVA</th>\n",
       "      <th>VETYN</th>\n",
       "      <th>WKSWORK</th>\n",
       "      <th>MARSUPWT</th>\n",
       "      <th>TARGET</th>\n",
       "    </tr>\n",
       "  </thead>\n",
       "  <tbody>\n",
       "    <tr>\n",
       "      <th>0</th>\n",
       "      <td>73</td>\n",
       "      <td>Not in universe</td>\n",
       "      <td>0</td>\n",
       "      <td>0</td>\n",
       "      <td>High school graduate</td>\n",
       "      <td>0</td>\n",
       "      <td>Not in universe</td>\n",
       "      <td>Widowed</td>\n",
       "      <td>Not in universe or children</td>\n",
       "      <td>Not in universe</td>\n",
       "      <td>...</td>\n",
       "      <td>United-States</td>\n",
       "      <td>United-States</td>\n",
       "      <td>United-States</td>\n",
       "      <td>Native- Born in the United States</td>\n",
       "      <td>0</td>\n",
       "      <td>Not in universe</td>\n",
       "      <td>2</td>\n",
       "      <td>0</td>\n",
       "      <td>95</td>\n",
       "      <td>- 50000.</td>\n",
       "    </tr>\n",
       "    <tr>\n",
       "      <th>1</th>\n",
       "      <td>58</td>\n",
       "      <td>Self-employed-not incorporated</td>\n",
       "      <td>4</td>\n",
       "      <td>34</td>\n",
       "      <td>Some college but no degree</td>\n",
       "      <td>0</td>\n",
       "      <td>Not in universe</td>\n",
       "      <td>Divorced</td>\n",
       "      <td>Construction</td>\n",
       "      <td>Precision production craft &amp; repair</td>\n",
       "      <td>...</td>\n",
       "      <td>United-States</td>\n",
       "      <td>United-States</td>\n",
       "      <td>United-States</td>\n",
       "      <td>Native- Born in the United States</td>\n",
       "      <td>0</td>\n",
       "      <td>Not in universe</td>\n",
       "      <td>2</td>\n",
       "      <td>52</td>\n",
       "      <td>94</td>\n",
       "      <td>- 50000.</td>\n",
       "    </tr>\n",
       "    <tr>\n",
       "      <th>2</th>\n",
       "      <td>18</td>\n",
       "      <td>Not in universe</td>\n",
       "      <td>0</td>\n",
       "      <td>0</td>\n",
       "      <td>10th grade</td>\n",
       "      <td>0</td>\n",
       "      <td>High school</td>\n",
       "      <td>Never married</td>\n",
       "      <td>Not in universe or children</td>\n",
       "      <td>Not in universe</td>\n",
       "      <td>...</td>\n",
       "      <td>Vietnam</td>\n",
       "      <td>Vietnam</td>\n",
       "      <td>Vietnam</td>\n",
       "      <td>Foreign born- Not a citizen of U S</td>\n",
       "      <td>0</td>\n",
       "      <td>Not in universe</td>\n",
       "      <td>2</td>\n",
       "      <td>0</td>\n",
       "      <td>95</td>\n",
       "      <td>- 50000.</td>\n",
       "    </tr>\n",
       "    <tr>\n",
       "      <th>3</th>\n",
       "      <td>9</td>\n",
       "      <td>Not in universe</td>\n",
       "      <td>0</td>\n",
       "      <td>0</td>\n",
       "      <td>Children</td>\n",
       "      <td>0</td>\n",
       "      <td>Not in universe</td>\n",
       "      <td>Never married</td>\n",
       "      <td>Not in universe or children</td>\n",
       "      <td>Not in universe</td>\n",
       "      <td>...</td>\n",
       "      <td>United-States</td>\n",
       "      <td>United-States</td>\n",
       "      <td>United-States</td>\n",
       "      <td>Native- Born in the United States</td>\n",
       "      <td>0</td>\n",
       "      <td>Not in universe</td>\n",
       "      <td>0</td>\n",
       "      <td>0</td>\n",
       "      <td>94</td>\n",
       "      <td>- 50000.</td>\n",
       "    </tr>\n",
       "    <tr>\n",
       "      <th>4</th>\n",
       "      <td>10</td>\n",
       "      <td>Not in universe</td>\n",
       "      <td>0</td>\n",
       "      <td>0</td>\n",
       "      <td>Children</td>\n",
       "      <td>0</td>\n",
       "      <td>Not in universe</td>\n",
       "      <td>Never married</td>\n",
       "      <td>Not in universe or children</td>\n",
       "      <td>Not in universe</td>\n",
       "      <td>...</td>\n",
       "      <td>United-States</td>\n",
       "      <td>United-States</td>\n",
       "      <td>United-States</td>\n",
       "      <td>Native- Born in the United States</td>\n",
       "      <td>0</td>\n",
       "      <td>Not in universe</td>\n",
       "      <td>0</td>\n",
       "      <td>0</td>\n",
       "      <td>94</td>\n",
       "      <td>- 50000.</td>\n",
       "    </tr>\n",
       "  </tbody>\n",
       "</table>\n",
       "<p>5 rows × 42 columns</p>\n",
       "</div>"
      ],
      "text/plain": [
       "   age                          ACLSWKR  ADTIND  ADTOCC  \\\n",
       "0   73                  Not in universe       0       0   \n",
       "1   58   Self-employed-not incorporated       4      34   \n",
       "2   18                  Not in universe       0       0   \n",
       "3    9                  Not in universe       0       0   \n",
       "4   10                  Not in universe       0       0   \n",
       "\n",
       "                          AHGA  AHRSPAY            AHSCOL         AMARITL  \\\n",
       "0         High school graduate        0   Not in universe         Widowed   \n",
       "1   Some college but no degree        0   Not in universe        Divorced   \n",
       "2                   10th grade        0       High school   Never married   \n",
       "3                     Children        0   Not in universe   Never married   \n",
       "4                     Children        0   Not in universe   Never married   \n",
       "\n",
       "                         AMJIND                                AMJOCC  \\\n",
       "0   Not in universe or children                       Not in universe   \n",
       "1                  Construction   Precision production craft & repair   \n",
       "2   Not in universe or children                       Not in universe   \n",
       "3   Not in universe or children                       Not in universe   \n",
       "4   Not in universe or children                       Not in universe   \n",
       "\n",
       "     ...            PEMNTVTY        PENATVTY        PRCITSHP  \\\n",
       "0    ...       United-States   United-States   United-States   \n",
       "1    ...       United-States   United-States   United-States   \n",
       "2    ...             Vietnam         Vietnam         Vietnam   \n",
       "3    ...       United-States   United-States   United-States   \n",
       "4    ...       United-States   United-States   United-States   \n",
       "\n",
       "                                  SEOTR TAXINC            VETQVA  VETYN  \\\n",
       "0     Native- Born in the United States      0   Not in universe      2   \n",
       "1     Native- Born in the United States      0   Not in universe      2   \n",
       "2   Foreign born- Not a citizen of U S       0   Not in universe      2   \n",
       "3     Native- Born in the United States      0   Not in universe      0   \n",
       "4     Native- Born in the United States      0   Not in universe      0   \n",
       "\n",
       "   WKSWORK  MARSUPWT     TARGET  \n",
       "0        0        95   - 50000.  \n",
       "1       52        94   - 50000.  \n",
       "2        0        95   - 50000.  \n",
       "3        0        94   - 50000.  \n",
       "4        0        94   - 50000.  \n",
       "\n",
       "[5 rows x 42 columns]"
      ]
     },
     "execution_count": 20,
     "metadata": {},
     "output_type": "execute_result"
    }
   ],
   "source": [
    "import pandas as pd\n",
    "import numpy as np\n",
    "import seaborn as sns\n",
    "import matplotlib.pyplot as plt\n",
    "\n",
    "\n",
    "names = ['age', \n",
    "'ACLSWKR', # class of worker ACLSWKR\n",
    "'ADTIND', # industry code ADTIND\n",
    "'ADTOCC', # occupation code ADTOCC\n",
    "'AHGA', # education AHGA\n",
    "'AHRSPAY', # wage per hour AHRSPAY\n",
    "'AHSCOL',# enrolled in edu inst last wk AHSCOL\n",
    "'AMARITL', # marital status AMARITL\n",
    "'AMJIND',# major industry code AMJIND\n",
    "'AMJOCC',# major occupation code AMJOCC\n",
    "'ARACE',# mace ARACE\n",
    "'AREORGN',# hispanic Origin AREORGN\n",
    "'ASEX',# sex ASEX\n",
    "'AUNMEM',# member of a labor union AUNMEM\n",
    "'AUNTYPE',# reason for unemployment AUNTYPE\n",
    "'AWKSTAT',# full or part time employment stat AWKSTAT\n",
    "'CAPGAIN', # capital gains CAPGAIN\n",
    "'CAPLOSS',# capital losses CAPLOSS\n",
    "'DIVVAL', # divdends from stocks DIVVAL\n",
    "'FILESTAT', # tax filer status FILESTAT\n",
    "'GRINREG', # region of previous residence GRINREG\n",
    "'GRINST',# state of previous residence GRINST\n",
    "'HHDFMX', # detailed household and family stat HHDFMX\n",
    "'HHDREL',# detailed household summary in household HHDREL\n",
    "'MIGMTR1', # migration code-change in msa MIGMTR1\n",
    "'MIGMTR3', # migration code-change in reg MIGMTR3\n",
    "'MIGMTR4', # migration code-move within reg MIGMTR4\n",
    "'MIGSAME',# live in this house 1 year ago MIGSAME\n",
    "'MIGSUN',# migration prev res in sunbelt MIGSUN\n",
    "'NOEMP',# num persons worked for employer NOEMP\n",
    "'PARENT',# family members under 18 PARENT\n",
    "'PEFNTVTY',# country of birth father PEFNTVTY\n",
    "'PEMNTVTY',# country of birth mother PEMNTVTY\n",
    "'PENATVTY', # country of birth self PENATVTY\n",
    "'PRCITSHP',# citizenship PRCITSHP\n",
    "'SEOTR', # own business or self employed SEOTR\n",
    "'TAXINC',# taxable income amount TAXINC\n",
    "'VETQVA',# fill inc questionnaire for veterans admin VETQVA\n",
    "'VETYN', # veterans benefits VETYN\n",
    "'WKSWORK', # weeks worked in year WKSWORK\n",
    "'MARSUPWT', # instance weight MARSUPWT\n",
    "'TARGET', # gross income target TARGET\n",
    "]\n",
    "data = pd.read_csv(\"/Users/abayomi/Desktop/walmart/census-income.data\",names=names)\n",
    "\n",
    "data.head()"
   ]
  },
  {
   "cell_type": "code",
   "execution_count": 25,
   "metadata": {},
   "outputs": [
    {
     "data": {
      "image/png": "[encoded data removed]",
      "text/plain": [
       "<matplotlib.figure.Figure at 0x1122e3150>"
      ]
     },
     "metadata": {},
     "output_type": "display_data"
    }
   ],
   "source": [
    "# Direct indicators the can influece income (TARGET) are AMJOCC - occupation and AHGA - Education\n",
    "\n",
    "sns.countplot(y='AMJOCC', hue='TARGET', data=data,)  # Occupation \n",
    "plt.show()"
   ]
  },
  {
   "cell_type": "code",
   "execution_count": 24,
   "metadata": {},
   "outputs": [
    {
     "data": {
      "image/png": "[encoded data removed]",
      "text/plain": [
       "<matplotlib.figure.Figure at 0x1161d6a10>"
      ]
     },
     "metadata": {},
     "output_type": "display_data"
    }
   ],
   "source": [
    "\n",
    "sns.countplot(y='AHGA', hue='TARGET', data=data,)  # Education\n",
    "plt.show()"
   ]
  },
  {
   "cell_type": "markdown",
   "metadata": {},
   "source": [
    "# Feature Extraction and Feature Engineering"
   ]
  },
  {
   "cell_type": "code",
   "execution_count": 26,
   "metadata": {
    "collapsed": true
   },
   "outputs": [],
   "source": [
    "import json\n",
    "\n",
    "meta = {\n",
    "    'target_names': list(data.TARGET.unique()),\n",
    "    'feature_names': list(data.columns),\n",
    "    'categorical_features': {\n",
    "        column: list(data[column].unique())\n",
    "        for column in data.columns\n",
    "        if data[column].dtype == 'object'\n",
    "    },\n",
    "}\n",
    "with open('/Users/abayomi/Desktop/walmart/meta.json', 'w') as f:\n",
    "    json.dump(meta, f, indent=2)"
   ]
  },
  {
   "cell_type": "code",
   "execution_count": 34,
   "metadata": {},
   "outputs": [],
   "source": [
    "import os\n",
    "from sklearn.datasets.base import Bunch\n",
    "\n",
    "def load_data(root='/Users/abayomi/Desktop/walmart/'):\n",
    "    # Load the meta data from the file\n",
    "    with open(os.path.join(root, 'meta.json'), 'r') as f:\n",
    "        meta = json.load(f)\n",
    "    names = meta['feature_names']\n",
    "    # Load the readme information\n",
    "#     with open(os.path.join(root, 'README.md'), 'r') as f:\n",
    "#         readme = f.read()\n",
    "    # Load the training and test data, skipping the bad row in the test data\n",
    "    train = pd.read_csv(os.path.join(root, 'train.data'), names=names)\n",
    "    test  = pd.read_csv(os.path.join(root, 'test.data'), names=names, skiprows=1)\n",
    "    \n",
    "    # Remove the target from the categorical features\n",
    "    meta['categorical_features'].pop('TARGET')\n",
    "    # Return the bunch with the appropriate data chunked apart\n",
    "    return Bunch(\n",
    "        data = train[names[:-1]],\n",
    "        target = train[names[-1]],\n",
    "        data_test = test[names[:-1]],\n",
    "        target_test = test[names[-1]],\n",
    "        target_names = meta['target_names'],\n",
    "        feature_names = meta['feature_names'],\n",
    "        categorical_features = meta['categorical_features'],\n",
    "#         DESCR = readme,\n",
    "    )\n",
    "dataset = load_data()"
   ]
  },
  {
   "cell_type": "code",
   "execution_count": null,
   "metadata": {
    "collapsed": true
   },
   "outputs": [],
   "source": []
  },
  {
   "cell_type": "code",
   "execution_count": 36,
   "metadata": {},
   "outputs": [
    {
     "name": "stdout",
     "output_type": "stream",
     "text": [
      "[' Female' ' Male']\n"
     ]
    }
   ],
   "source": [
    "from sklearn.preprocessing import LabelEncoder\n",
    "gender = LabelEncoder()\n",
    "gender.fit(dataset.data.ASEX)\n",
    "print(gender.classes_)"
   ]
  },
  {
   "cell_type": "code",
   "execution_count": null,
   "metadata": {
    "collapsed": true
   },
   "outputs": [],
   "source": []
  },
  {
   "cell_type": "code",
   "execution_count": 38,
   "metadata": {},
   "outputs": [],
   "source": [
    "from sklearn.base import BaseEstimator, TransformerMixin\n",
    "\n",
    "class EncodeCategorical(BaseEstimator, TransformerMixin):\n",
    "    \"\"\"\n",
    "    Encodes a specified list of columns or all columns if None.\n",
    "    \"\"\"\n",
    "    def __init__(self, columns=None):\n",
    "        self.columns  = columns\n",
    "        self.encoders = None\n",
    "    def fit(self, data, target=None):\n",
    "        \"\"\"\n",
    "        Expects a data frame with named columns to encode.\n",
    "        \"\"\"\n",
    "        # Encode all columns if columns is None\n",
    "        if self.columns is None:\n",
    "            self.columns = data.columns\n",
    "        # Fit a label encoder for each column in the data frame\n",
    "        self.encoders = {\n",
    "            column: LabelEncoder().fit(data[column])\n",
    "            for column in self.columns\n",
    "        }\n",
    "        return self\n",
    "    def transform(self, data):\n",
    "        \"\"\"\n",
    "        Uses the encoders to transform a data frame.\n",
    "        \"\"\"\n",
    "        output = data.copy()\n",
    "        for column, encoder in self.encoders.items():\n",
    "            output[column] = encoder.transform(data[column])\n",
    "        return output\n",
    "encoder = EncodeCategorical(dataset.categorical_features.keys())\n",
    "data = encoder.fit_transform(dataset.data)"
   ]
  },
  {
   "cell_type": "code",
   "execution_count": null,
   "metadata": {
    "collapsed": true
   },
   "outputs": [],
   "source": []
  },
  {
   "cell_type": "code",
   "execution_count": 40,
   "metadata": {
    "collapsed": true
   },
   "outputs": [],
   "source": [
    "from sklearn.preprocessing import Imputer\n",
    "\n",
    "class ImputeCategorical(BaseEstimator, TransformerMixin):\n",
    "    \"\"\"\n",
    "    Encodes a specified list of columns or all columns if None.\n",
    "    \"\"\"\n",
    "    def __init__(self, columns=None):\n",
    "        self.columns = columns\n",
    "        self.imputer = None\n",
    "    def fit(self, data, target=None):\n",
    "        \"\"\"\n",
    "        Expects a data frame with named columns to impute.\n",
    "        \"\"\"\n",
    "        # Encode all columns if columns is None\n",
    "        if self.columns is None:\n",
    "            self.columns = data.columns\n",
    "        # Fit an imputer for each column in the data frame\n",
    "        self.imputer = Imputer(missing_values=0, strategy='most_frequent')\n",
    "        self.imputer.fit(data[self.columns])\n",
    "        return self\n",
    "    \n",
    "    def transform(self, data):\n",
    "        \"\"\"\n",
    "        Uses the encoders to transform a data frame.\n",
    "        \"\"\"\n",
    "        output = data.copy()\n",
    "        output[self.columns] = self.imputer.transform(output[self.columns])\n",
    "        return output\n",
    "\n",
    "imputer = ImputeCategorical(['GRINST','MIGMTR3','MIGMTR4','MIGSAME','NOEMP','PEMNTVTY','PENATVTY','PRCITSHP'])\n",
    "data = imputer.fit_transform(data)"
   ]
  },
  {
   "cell_type": "markdown",
   "metadata": {},
   "source": [
    "# Model Building"
   ]
  },
  {
   "cell_type": "code",
   "execution_count": null,
   "metadata": {
    "collapsed": true
   },
   "outputs": [],
   "source": [
    "Used "
   ]
  },
  {
   "cell_type": "code",
   "execution_count": 41,
   "metadata": {},
   "outputs": [
    {
     "data": {
      "text/plain": [
       "Pipeline(steps=[('encoder', EncodeCategorical(columns=[u'ASEX', u'GRINST', u'AMARITL', u'MIGSAME', u'PEFNTVTY', u'HHDFMX', u'PRCITSHP', u'VETQVA', u'PEMNTVTY', u'MIGMTR3', u'AUNMEM', u'MIGMTR4', u'ARACE', u'ACLSWKR', u'HHDREL', u'NOEMP', u'FILESTAT', u'MIGSUN', u'AHSCOL', u'AMJIND', u'AREORGN', u'AUNTYPE', u...ty='l2', random_state=None, solver='liblinear', tol=0.0001,\n",
       "          verbose=0, warm_start=False))])"
      ]
     },
     "execution_count": 41,
     "metadata": {},
     "output_type": "execute_result"
    }
   ],
   "source": [
    "from sklearn.pipeline import Pipeline\n",
    "from sklearn.linear_model import LogisticRegression\n",
    "# we need to encode our target data as well.\n",
    "yencode = LabelEncoder().fit(dataset.target)\n",
    "# construct the pipeline\n",
    "census = Pipeline([\n",
    "        ('encoder',  EncodeCategorical(dataset.categorical_features.keys())),\n",
    "        ('imputer', ImputeCategorical(['GRINST','MIGMTR3','MIGMTR4','MIGSAME','NOEMP','PEMNTVTY','PENATVTY','PRCITSHP'])),\n",
    "        ('classifier', LogisticRegression())\n",
    "    ])\n",
    "# fit the pipeline\n",
    "census.fit(dataset.data, yencode.transform(dataset.target))"
   ]
  },
  {
   "cell_type": "markdown",
   "metadata": {},
   "source": [
    "Classification Report "
   ]
  },
  {
   "cell_type": "code",
   "execution_count": null,
   "metadata": {
    "collapsed": true
   },
   "outputs": [],
   "source": [
    "Using Logsitic Regression Classifier "
   ]
  },
  {
   "cell_type": "code",
   "execution_count": 43,
   "metadata": {},
   "outputs": [
    {
     "name": "stdout",
     "output_type": "stream",
     "text": [
      "             precision    recall  f1-score   support\n",
      "\n",
      "   - 50000.       0.95      0.99      0.97     28087\n",
      "    50000+.       0.69      0.27      0.39      1814\n",
      "\n",
      "avg / total       0.94      0.95      0.94     29901\n",
      "\n"
     ]
    }
   ],
   "source": [
    "from sklearn.metrics import classification_report\n",
    "# encode test targets, and strip traililng '.'\n",
    "y_true = yencode.transform([y.rstrip(\"-\") for y in dataset.target_test])\n",
    "# use the model to get the predicted value\n",
    "y_pred = census.predict(dataset.data_test)\n",
    "# execute classification report\n",
    "print classification_report(y_true, y_pred, target_names=dataset.target_names)"
   ]
  },
  {
   "cell_type": "markdown",
   "metadata": {},
   "source": [
    "Model comparison using Support Vector Machine"
   ]
  },
  {
   "cell_type": "code",
   "execution_count": null,
   "metadata": {
    "collapsed": true
   },
   "outputs": [],
   "source": [
    "from sklearn.pipeline import Pipeline\n",
    "from sklearn.svm import SVC\n",
    "# we need to encode our target data as well.\n",
    "yencode = LabelEncoder().fit(dataset.target)\n",
    "# construct the pipeline\n",
    "census = Pipeline([\n",
    "        ('encoder',  EncodeCategorical(dataset.categorical_features.keys())),\n",
    "        ('imputer', ImputeCategorical(['GRINST','MIGMTR3','MIGMTR4','MIGSAME','NOEMP','PEMNTVTY','PENATVTY','PRCITSHP'])),\n",
    "        ('classifier', SVC())\n",
    "    ])\n",
    "# fit the pipeline\n",
    "census.fit(dataset.data, yencode.transform(dataset.target))"
   ]
  },
  {
   "cell_type": "markdown",
   "metadata": {},
   "source": [
    "Resources:\n",
    "\n",
    "http://scikit-learn.org/stable/modules/compose.html\n",
    "https://stackoverflow.com/questions/24458645/label-encoding-across-multiple-columns-in-scikit-learn\n",
    "https://medium.com/district-data-labs/building-a-classifier-from-census-data-18f996c4d7cf\n",
    "\n",
    "Your personal use.\n",
    "https://developers.google.com/machine-learning/crash-course/prereqs-and-prework\n",
    "\n"
   ]
  }
 ],
 "metadata": {
  "kernelspec": {
   "display_name": "Python 2",
   "language": "python",
   "name": "python2"
  },
  "language_info": {
   "codemirror_mode": {
    "name": "ipython",
    "version": 2
   },
   "file_extension": ".py",
   "mimetype": "text/x-python",
   "name": "python",
   "nbconvert_exporter": "python",
   "pygments_lexer": "ipython2",
   "version": "2.7.14"
  }
 },
 "nbformat": 4,
 "nbformat_minor": 2
}
